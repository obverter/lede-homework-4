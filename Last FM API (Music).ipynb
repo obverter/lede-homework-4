{
 "cells": [
  {
   "cell_type": "markdown",
   "metadata": {},
   "source": [
    "# Last FM API (Music)\n",
    "\n",
    "Spotify's API is dead to us, so we're using Last.fm's - it's still music, just not as nice of an API.\n",
    "\n",
    "1. Create an account at https://www.last.fm/api/\n",
    "2. Create an \"application\" to get a key: https://www.last.fm/api/account/create\n",
    "    - It isn't a real application, it's just your project\n",
    "    - Name/description doesn't matter, ignore callback key and callback url\n",
    "3. And save the API key that shows up on the next screen\n",
    "\n",
    "You can find documentation at https://www.last.fm/api/\n",
    "\n",
    "The domain for the API is `http://ws.audioscrobbler.com`, so all of your endpoints will be connected to that. To test your API key, check the following URL in your browser: `http://ws.audioscrobbler.com/2.0/?method=artist.search&artist=cher&api_key=XXXXXXXXXXXXXXXXXXXX&format=json` (change the `XXXXXX` to be your API key, of course!).\n",
    "\n",
    "> Last.fm used to be called **AudioScrobbler**, which is why its URLs don't have \"last.fm\" in them.\n",
    "> While we're asking about URLs, notice that the API endpoints have a lot of `?` and `&` in them - these are key/value pairs, kind of like dictionaries, but for URLs instead of Python."
   ]
  },
  {
   "cell_type": "markdown",
   "metadata": {},
   "source": [
    "# FIRST: SETUP"
   ]
  },
  {
   "cell_type": "markdown",
   "metadata": {},
   "source": [
    "## 1) Import the libraries/packages you might need\n",
    "\n",
    "We need a library to read in the data for us! We don't like `urllib2`, so it must be something cooler and better."
   ]
  },
  {
   "cell_type": "code",
   "execution_count": 34,
   "metadata": {},
   "outputs": [
    {
     "name": "stdout",
     "output_type": "stream",
     "text": [
      "CPU times: user 6 µs, sys: 0 ns, total: 6 µs\n",
      "Wall time: 6.91 µs\n"
     ]
    }
   ],
   "source": [
    "%%time\n",
    "# Import what you need here\n",
    "import requests\n",
    "import random\n",
    "import time\n",
    "LFM_key = 'dceeeb420753458b13ba2cc8af00e91b'\n",
    "LFM_master_ep = 'http://ws.audioscrobbler.com/2.0/?method='"
   ]
  },
  {
   "cell_type": "markdown",
   "metadata": {},
   "source": [
    "## 2) Save your API key\n",
    "\n",
    "Write your API key here so you don't forget it - it's the \"api key\" one, not the \"shared secret\" one"
   ]
  },
  {
   "cell_type": "markdown",
   "metadata": {},
   "source": [
    "## 3) The death of an API\n",
    "\n",
    "I used to have some code here that allowed you to display images, but _the images don't work any more._ Let this be an important lesson: when you depend on external services, they can die at any time."
   ]
  },
  {
   "cell_type": "markdown",
   "metadata": {},
   "source": [
    "# NOW: YOUR ASSIGNMENT"
   ]
  },
  {
   "cell_type": "markdown",
   "metadata": {},
   "source": [
    "## 1) Search for and print a list of 50 musicians with `lil` in their name, along with the number of listeners they have\n",
    "\n",
    "There are a lot of musicians with \"Lil\" in their name - it used to be all Lil Wayne and Lil Kim, but we live in a new world now!\n",
    "\n",
    "- *Tip: Remember, the domain for the API is `http://ws.audioscrobbler.com`*\n",
    "- *Tip: Make sure you ask the API for 50 musicians! This involves adding another parameter to the URL - notice they all have a `&` before them. [Read the documentation](http://www.last.fm/api/show/artist.search) to find the parameter's name.* \n",
    "- *Tip: When you are looking at any piece of data - is it a dictionary? Look at the keys! Is it a list? Look at the first element!*\n",
    "- *Tip: LOOK AT THE KEYS. and then the other keys and the other keys and the other keys. It's an ugly series of dictionaries!*"
   ]
  },
  {
   "cell_type": "markdown",
   "metadata": {},
   "source": [
    "Let's jsonify our artist pile:"
   ]
  },
  {
   "cell_type": "code",
   "execution_count": 35,
   "metadata": {},
   "outputs": [],
   "source": [
    "artist = 'lil'\n",
    "result_count = 51\n",
    "artist_query = f'{LFM_master_ep}artist.search&artist={artist}&api_key={LFM_key}&limit={result_count}&format=json'\n",
    "artist_query\n",
    "artist_result = requests.get(artist_query)\n",
    "artist_result = artist_result.json()\n"
   ]
  },
  {
   "cell_type": "markdown",
   "metadata": {},
   "source": [
    "Let's watch me root around in the pile for a minute just to get my bearings:"
   ]
  },
  {
   "cell_type": "code",
   "execution_count": 36,
   "metadata": {},
   "outputs": [],
   "source": [
    "# print(artist_result.keys())\n",
    "# print(artist_result['results'].keys())\n",
    "# print(artist_result['results']['artistmatches'])\n",
    "# print(artist_result['results']['artistmatches']['artist'][1])"
   ]
  },
  {
   "cell_type": "markdown",
   "metadata": {},
   "source": [
    "Let's use a loop pull out our artists and listeners to a working lists, throw those into dictionaries, append those dictionaries to a list called clown car, and then reset everything for the next Lil:"
   ]
  },
  {
   "cell_type": "code",
   "execution_count": 37,
   "metadata": {},
   "outputs": [
    {
     "name": "stdout",
     "output_type": "stream",
     "text": [
      "[{'artist': 'LIL UZI VERT', 'listeners': 813261}, {'artist': 'LIL PEEP', 'listeners': 1377102}, {'artist': 'Lil Nas X', 'listeners': 3377140}]\n"
     ]
    }
   ],
   "source": [
    "listeners = []\n",
    "lil_clown_car = []  # master list of dicts\n",
    "lil_dic = {}  # each lil dict\n",
    "lil_location = artist_result[\"results\"][\"artistmatches\"][\"artist\"]\n",
    "lil_counter = 0\n",
    "lils = [lil_location[lil_counter][\"name\"]]\n",
    "for _ in range(len(lil_location)):\n",
    "    lils.append(lil_location[int(lil_counter)][\"name\"])\n",
    "    listeners.append(\n",
    "        int(lil_location[int(lil_counter)][\"listeners\"])\n",
    "    )  # I'll need this later.\n",
    "\n",
    "    lil_dic[\"artist\"] = lils[int(lil_counter)]\n",
    "    lil_dic[\"listeners\"] = listeners[int(lil_counter)]\n",
    "\n",
    "    lil_clown_car.append(lil_dic)\n",
    "    lil_dic = {}\n",
    "    lil_counter += 1\n",
    "# print(lils)\n",
    "# print(\"-----\")\n",
    "# print(lils)\n",
    "# print(\"-----\")\n",
    "# print(listeners)\n",
    "# print(\"-----\")\n",
    "# print(f\"len(lils): {len(lils)}\")\n",
    "# print(\"-----\")\n",
    "# print(f\"len(listeners): {len(listeners)}\")\n",
    "# print(\"-----\")\n",
    "# print(f\"len(lil_clown_car): {len(listeners)}\")\n",
    "# print(\"-----\")\n",
    "# print(lil_clown_car[:3])\n",
    "lil_clown_car.pop(0)\n",
    "# print(\"-----\")\n",
    "print(lil_clown_car[:3])"
   ]
  },
  {
   "cell_type": "markdown",
   "metadata": {},
   "source": [
    "Now let's print our answer list:"
   ]
  },
  {
   "cell_type": "code",
   "execution_count": 38,
   "metadata": {},
   "outputs": [
    {
     "name": "stdout",
     "output_type": "stream",
     "text": [
      "Here's a list of 50 LastFM artists with lil in their name:\n",
      "\n",
      "\n",
      "Lil Uzi Vert has about 813,000 LastFM listeners.\n",
      "Lil Peep has about 1.38 million LastFM listeners.\n",
      "Lil Nas X has about 3.38 million LastFM listeners.\n",
      "Lil' Wayne has about 2.51 million LastFM listeners.\n",
      "Lily Allen has about 623,000 LastFM listeners.\n",
      "Lil Baby has about 535,000 LastFM listeners.\n",
      "Lil Tecca has about 585,000 LastFM listeners.\n",
      "Lil Yachty has about 424,000 LastFM listeners.\n",
      "Lil Tjay has about 693,000 LastFM listeners.\n",
      "Lil Wayne has about 372,000 LastFM listeners.\n",
      "Lil Durk has about 383,000 LastFM listeners.\n",
      "Lil Skies has about 196,000 LastFM listeners.\n",
      "Lil Darkie has about 468,000 LastFM listeners.\n",
      "Lil Mosey has about 194,000 LastFM listeners.\n",
      "Lil Ugly Mane has about 322,000 LastFM listeners.\n",
      "Lil B has about 410,000 LastFM listeners.\n",
      "Lil Pump has about 153,000 LastFM listeners.\n",
      "Lil Tracy has about 189,000 LastFM listeners.\n",
      "Lil Keed has about 391,000 LastFM listeners.\n",
      "Lil Dicky has about 577,000 LastFM listeners.\n",
      "Lil' Kim has about 262,000 LastFM listeners.\n",
      "Lil Xan has about 434,000 LastFM listeners.\n",
      "Lilly Wood & The Prick has about 101,000 LastFM listeners.\n",
      "Lil Loaded has about 67,000 LastFM listeners.\n",
      "Lilypichu has about 669,000 LastFM listeners.\n",
      "Lil Jon has about 157,000 LastFM listeners.\n",
      "Lil Gnar has about 598,000 LastFM listeners.\n",
      "Lil Jon & The East Side Boyz has about 79,000 LastFM listeners.\n",
      "Lilbubblegum has about 205,000 LastFM listeners.\n",
      "Lilac has about 119,000 LastFM listeners.\n",
      "Lil Aaron has about 212,000 LastFM listeners.\n",
      "Fenne Lily has about 122,000 LastFM listeners.\n",
      "Lil Eazzyy has about 186,000 LastFM listeners.\n",
      "Lila Downs has about 71,000 LastFM listeners.\n",
      "Lil Bo Weep has about 67,000 LastFM listeners.\n",
      "Lil Gotit has about 119,000 LastFM listeners.\n",
      "Lily James has about 71,000 LastFM listeners.\n",
      "Lil Kleine has about 30,000 LastFM listeners.\n",
      "Lil Revive has about 422,000 LastFM listeners.\n",
      "Lil Boosie has about 122,000 LastFM listeners.\n",
      "The Tiger Lillies has about 63,000 LastFM listeners.\n",
      "Lil Dusty G has about 69,000 LastFM listeners.\n",
      "Lil' Kleine has about 57,000 LastFM listeners.\n",
      "Lil Lotus has about 66,000 LastFM listeners.\n",
      "Lil Mariko has about 65,000 LastFM listeners.\n",
      "Lily Chou-Chou has about 272,000 LastFM listeners.\n",
      "Lil Wyte has about 67,000 LastFM listeners.\n",
      "Lil Boodang has about 75,000 LastFM listeners.\n",
      "Lil Candy Paint has about 361,000 LastFM listeners.\n",
      "Lil' Flip has about 48,000 LastFM listeners.\n",
      "\n",
      "lilbubblegum is my absolute favorite.\n"
     ]
    }
   ],
   "source": [
    "print(\n",
    "    f\"Here's a list of {len(lil_clown_car)} LastFM artists with {artist} in their name:\\n\\n\"\n",
    ")\n",
    "\n",
    "for clown_count, lil in enumerate(lil_clown_car):\n",
    "    if int(lil_clown_car[clown_count][\"listeners\"]) > 1000000:\n",
    "        print(\n",
    "            f'{(lil_clown_car[clown_count][\"artist\"].title())} has about {round(float(lil_clown_car[clown_count][\"listeners\"]) / 1_000_000, 2)} million LastFM listeners.'\n",
    "        )\n",
    "    else:\n",
    "        print(\n",
    "            f'{(lil_clown_car[clown_count][\"artist\"].title())} has about {round(float(lil_clown_car[clown_count][\"listeners\"]) / 1_000)},000 LastFM listeners.'\n",
    "        )\n",
    "print(\n",
    "    f\"\\n{lil_clown_car[random.randint(0, 49)]['artist']} is my absolute favorite.\"\n",
    ")"
   ]
  },
  {
   "cell_type": "markdown",
   "metadata": {},
   "source": [
    "Your results should begin something like this:\n",
    "    \n",
    "```\n",
    "Lil' Wayne has 3086628 listeners\n",
    "Lily Allen has 2074266 listeners\n",
    "Lil B has 194116 listeners\n",
    "Lilly Wood & The Prick has 359886 listeners\n",
    "Lil Ugly Mane has 31955 listeners\n",
    "LIL UZI VERT has 88517 listeners\n",
    "```"
   ]
  },
  {
   "cell_type": "markdown",
   "metadata": {},
   "source": [
    "## 2) How many listeners does your list have in total?\n",
    "\n",
    "The answer should be roughly **15,000,000**. If it's lower, make sure you have 50 artists instead of 30 artists.\n",
    "\n",
    "- *Tip: What's the data type of the `listeners` count? It's going to cause a problem!*\n",
    "- *Tip: If you were crazy you could use sum and a list comprehension. But you really don't have to!*"
   ]
  },
  {
   "cell_type": "markdown",
   "metadata": {},
   "source": [
    "Let's give ourselves a big pat on the back for doing some extra work in the previous question so that we can use a one-liner here."
   ]
  },
  {
   "cell_type": "code",
   "execution_count": 39,
   "metadata": {},
   "outputs": [
    {
     "name": "stdout",
     "output_type": "stream",
     "text": [
      "My Lil list comprises about 20.86 million Lil listeners.\n"
     ]
    }
   ],
   "source": [
    "print(\n",
    "    f\"My Lil list comprises about {round(float(sum(listeners) / 1_000_000), 2)} million Lil listeners.\"\n",
    ")"
   ]
  },
  {
   "cell_type": "markdown",
   "metadata": {},
   "source": [
    "## 4) Find Lil Jon's `mbid` (or anyone else's!).\n",
    "\n",
    "Oftentimes in an API, you can do a few things: you can **search** for items, and you can **see more information** about items. To find more information about the item, you need to use their **unique id**. In this dataset, it's called an `mbid` (MusicBrainz, I think - another company associated with last.fm!).\n",
    "\n",
    "Go through the artists and print their **name and mbid**. Find Lil Jon's `mbid`. I *wanted* Lil Uzi Vert's, but for some reason it isn't there. Then I wanted us to look at Lily Allen's, but I just couldn't bring myself to do that. If you'd rather do someone else, go for it."
   ]
  },
  {
   "cell_type": "markdown",
   "metadata": {},
   "source": [
    "Let's mess around with Lil Dicky's mbid:"
   ]
  },
  {
   "cell_type": "code",
   "execution_count": 40,
   "metadata": {},
   "outputs": [],
   "source": [
    "lil_dicky = lil_clown_car[19]['artist']\n",
    "mbid_query_endpoint = \"https://musicbrainz.org/ws/2/artist/?query=artist:\"\n",
    "dicky_mbid_finder = (\n",
    "    mbid_query_endpoint\n",
    "    + ((lil_dicky).replace(\" \",\"%\")).lower()\n",
    "    + \"&fmt=json\"\n",
    ")\n",
    "# print(str(artist_mbid_finder))\n",
    "dicky_mbid_finder = requests.get(dicky_mbid_finder)\n",
    "dicky_mbid_finder = dicky_mbid_finder.json()"
   ]
  },
  {
   "cell_type": "markdown",
   "metadata": {},
   "source": [
    "Let's watch me root around blindly for a few lines until I find what I'm looking for:"
   ]
  },
  {
   "cell_type": "code",
   "execution_count": 41,
   "metadata": {},
   "outputs": [
    {
     "name": "stdout",
     "output_type": "stream",
     "text": [
      "3268f062-6e76-480a-a384-e1dd2a276afb\n"
     ]
    }
   ],
   "source": [
    "# print(dicky_mbid_finder.keys())  # where's that mbid?\n",
    "# print(dicky_mbid_finder['artists'])\n",
    "# print(dicky_mbid_finder['artists'][0])\n",
    "# print(dicky_mbid_finder['artists'][0]['id'])  # here it is\n",
    "\n",
    "\n",
    "lil_dicky_mbid = dicky_mbid_finder['artists'][0]['id']\n",
    "print(lil_dicky_mbid)"
   ]
  },
  {
   "cell_type": "markdown",
   "metadata": {},
   "source": [
    "Let's print out Lil Dicky's mbid."
   ]
  },
  {
   "cell_type": "code",
   "execution_count": 42,
   "metadata": {},
   "outputs": [
    {
     "name": "stdout",
     "output_type": "stream",
     "text": [
      "Lil Dicky's mbid is 3268f062-6e76-480a-a384-e1dd2a276afb.\n"
     ]
    }
   ],
   "source": [
    "print(\n",
    "    f\"{lil_dicky}'s mbid is {lil_dicky_mbid}.\"\n",
    ")"
   ]
  },
  {
   "cell_type": "code",
   "execution_count": 52,
   "metadata": {},
   "outputs": [
    {
     "data": {
      "text/plain": [
       "{'artist': 'LIL UZI VERT', 'listeners': 813261}"
      ]
     },
     "execution_count": 52,
     "metadata": {},
     "output_type": "execute_result"
    }
   ],
   "source": [
    "lil_clown_car[0]"
   ]
  },
  {
   "cell_type": "markdown",
   "metadata": {},
   "source": [
    "# NOTE FOR SOMA:\n",
    "From here on, the API threw all sorts of errors at me. Lots of 'error 6'. Lots of 'list out of index' bullshit that I just could not figure out. E.g., either my list of artists or my list of dictionaries of artists were len(50), had all of my lil's in there just fine, but when I fed those indexes into the API query, the run would crash at index 30. Every time. No matter what.\n",
    "\n",
    "Below, you'll see a bunch of flailing. I've got the entire saga broken out in commits on the big huge Lede repo that I'm working in most of the time.\n",
    "\n",
    "I'll keep working on it, but it's possible that I just painted myself in a corner somehow. Sad emoji."
   ]
  },
  {
   "cell_type": "code",
   "execution_count": 58,
   "metadata": {},
   "outputs": [
    {
     "name": "stdout",
     "output_type": "stream",
     "text": [
      "{'error': 6, 'message': 'The artist you supplied could not be found', 'links': []}\n",
      "{'error': 6, 'message': 'The artist you supplied could not be found', 'links': []}\n",
      "{'error': 6, 'message': 'The artist you supplied could not be found', 'links': []}\n",
      "{'error': 6, 'message': 'The artist you supplied could not be found', 'links': []}\n",
      "{'error': 6, 'message': 'The artist you supplied could not be found', 'links': []}\n",
      "{'error': 6, 'message': 'The artist you supplied could not be found', 'links': []}\n",
      "{'error': 6, 'message': 'The artist you supplied could not be found', 'links': []}\n",
      "{'error': 6, 'message': 'The artist you supplied could not be found', 'links': []}\n",
      "{'error': 6, 'message': 'The artist you supplied could not be found', 'links': []}\n",
      "{'error': 6, 'message': 'The artist you supplied could not be found', 'links': []}\n",
      "{'error': 6, 'message': 'The artist you supplied could not be found', 'links': []}\n",
      "{'error': 6, 'message': 'The artist you supplied could not be found', 'links': []}\n",
      "{'error': 6, 'message': 'The artist you supplied could not be found', 'links': []}\n",
      "{'error': 6, 'message': 'The artist you supplied could not be found', 'links': []}\n",
      "{'error': 6, 'message': 'The artist you supplied could not be found', 'links': []}\n",
      "{'error': 6, 'message': 'The artist you supplied could not be found', 'links': []}\n",
      "{'error': 6, 'message': 'The artist you supplied could not be found', 'links': []}\n",
      "{'error': 6, 'message': 'The artist you supplied could not be found', 'links': []}\n",
      "{'error': 6, 'message': 'The artist you supplied could not be found', 'links': []}\n",
      "{'error': 6, 'message': 'The artist you supplied could not be found', 'links': []}\n",
      "{'error': 6, 'message': 'The artist you supplied could not be found', 'links': []}\n",
      "{'error': 6, 'message': 'The artist you supplied could not be found', 'links': []}\n",
      "{'error': 6, 'message': 'The artist you supplied could not be found', 'links': []}\n",
      "{'error': 6, 'message': 'The artist you supplied could not be found', 'links': []}\n",
      "{'artist': {'name': 'Lilypichu', 'url': 'https://www.last.fm/music/Lilypichu', 'image': [{'#text': 'https://lastfm.freetls.fastly.net/i/u/34s/2a96cbd8b46e442fc41c2b86b821562f.png', 'size': 'small'}, {'#text': 'https://lastfm.freetls.fastly.net/i/u/64s/2a96cbd8b46e442fc41c2b86b821562f.png', 'size': 'medium'}, {'#text': 'https://lastfm.freetls.fastly.net/i/u/174s/2a96cbd8b46e442fc41c2b86b821562f.png', 'size': 'large'}, {'#text': 'https://lastfm.freetls.fastly.net/i/u/300x300/2a96cbd8b46e442fc41c2b86b821562f.png', 'size': 'extralarge'}, {'#text': 'https://lastfm.freetls.fastly.net/i/u/300x300/2a96cbd8b46e442fc41c2b86b821562f.png', 'size': 'mega'}, {'#text': 'https://lastfm.freetls.fastly.net/i/u/300x300/2a96cbd8b46e442fc41c2b86b821562f.png', 'size': ''}], 'streamable': '0', 'ontour': '0', 'stats': {'listeners': '67476', 'playcount': '2318935'}, 'similar': {'artist': []}, 'tags': {'tag': [{'name': 'Classical', 'url': 'https://www.last.fm/tag/Classical'}, {'name': 'piano', 'url': 'https://www.last.fm/tag/piano'}, {'name': 'american', 'url': 'https://www.last.fm/tag/american'}, {'name': 'anime', 'url': 'https://www.last.fm/tag/anime'}, {'name': 'comfy', 'url': 'https://www.last.fm/tag/comfy'}]}, 'bio': {'links': {'link': {'#text': '', 'rel': 'original', 'href': 'https://last.fm/music/Lilypichu/+wiki'}}, 'published': '11 Apr 2012, 10:34', 'summary': 'Lily Ki (born: November 20, 1991), better known online as LilyPichu, is an American YouTuber and Twitch streamer who makes a variety of content spanning from animations to music on her YouTube channel. On Twitch, Lily mainly streams League of Legends and Just Chatting content. She is also known for being a member of Offline TV.\\nShe has released a couple of compilation albums on her Bandcamp, known as the Lilies Series, of which there are five so far.  <a href=\"https://www.last.fm/music/Lilypichu\">Read more on Last.fm</a>', 'content': 'Lily Ki (born: November 20, 1991), better known online as LilyPichu, is an American YouTuber and Twitch streamer who makes a variety of content spanning from animations to music on her YouTube channel. On Twitch, Lily mainly streams League of Legends and Just Chatting content. She is also known for being a member of Offline TV.\\nShe has released a couple of compilation albums on her Bandcamp, known as the Lilies Series, of which there are five so far. \\nOn her SoundCloud, there are original acoustic songs and miscellaneous piano covers of other songs.\\nLily also has a YouTube channel called \"comfi beats\" where she uploads lo-fi and classical music.\\n\\nYouTube profile.\\nBandcamp profile.\\nSoundCloud.\\nTwitch. <a href=\"https://www.last.fm/music/Lilypichu\">Read more on Last.fm</a>. User-contributed text is available under the Creative Commons By-SA License; additional terms may apply.'}}}\n",
      "{'error': 6, 'message': 'The artist you supplied could not be found', 'links': []}\n",
      "{'error': 6, 'message': 'The artist you supplied could not be found', 'links': []}\n",
      "{'error': 6, 'message': 'The artist you supplied could not be found', 'links': []}\n",
      "{'artist': {'name': 'lilbubblegum', 'url': 'https://www.last.fm/music/lilbubblegum', 'image': [{'#text': 'https://lastfm.freetls.fastly.net/i/u/34s/2a96cbd8b46e442fc41c2b86b821562f.png', 'size': 'small'}, {'#text': 'https://lastfm.freetls.fastly.net/i/u/64s/2a96cbd8b46e442fc41c2b86b821562f.png', 'size': 'medium'}, {'#text': 'https://lastfm.freetls.fastly.net/i/u/174s/2a96cbd8b46e442fc41c2b86b821562f.png', 'size': 'large'}, {'#text': 'https://lastfm.freetls.fastly.net/i/u/300x300/2a96cbd8b46e442fc41c2b86b821562f.png', 'size': 'extralarge'}, {'#text': 'https://lastfm.freetls.fastly.net/i/u/300x300/2a96cbd8b46e442fc41c2b86b821562f.png', 'size': 'mega'}, {'#text': 'https://lastfm.freetls.fastly.net/i/u/300x300/2a96cbd8b46e442fc41c2b86b821562f.png', 'size': ''}], 'streamable': '0', 'ontour': '0', 'stats': {'listeners': '78644', 'playcount': '1882435'}, 'similar': {'artist': [{'name': 'Letoa', 'url': 'https://www.last.fm/music/Letoa', 'image': [{'#text': 'https://lastfm.freetls.fastly.net/i/u/34s/2a96cbd8b46e442fc41c2b86b821562f.png', 'size': 'small'}, {'#text': 'https://lastfm.freetls.fastly.net/i/u/64s/2a96cbd8b46e442fc41c2b86b821562f.png', 'size': 'medium'}, {'#text': 'https://lastfm.freetls.fastly.net/i/u/174s/2a96cbd8b46e442fc41c2b86b821562f.png', 'size': 'large'}, {'#text': 'https://lastfm.freetls.fastly.net/i/u/300x300/2a96cbd8b46e442fc41c2b86b821562f.png', 'size': 'extralarge'}, {'#text': 'https://lastfm.freetls.fastly.net/i/u/300x300/2a96cbd8b46e442fc41c2b86b821562f.png', 'size': 'mega'}, {'#text': 'https://lastfm.freetls.fastly.net/i/u/300x300/2a96cbd8b46e442fc41c2b86b821562f.png', 'size': ''}]}, {'name': '1NONLY', 'url': 'https://www.last.fm/music/1NONLY', 'image': [{'#text': 'https://lastfm.freetls.fastly.net/i/u/34s/2a96cbd8b46e442fc41c2b86b821562f.png', 'size': 'small'}, {'#text': 'https://lastfm.freetls.fastly.net/i/u/64s/2a96cbd8b46e442fc41c2b86b821562f.png', 'size': 'medium'}, {'#text': 'https://lastfm.freetls.fastly.net/i/u/174s/2a96cbd8b46e442fc41c2b86b821562f.png', 'size': 'large'}, {'#text': 'https://lastfm.freetls.fastly.net/i/u/300x300/2a96cbd8b46e442fc41c2b86b821562f.png', 'size': 'extralarge'}, {'#text': 'https://lastfm.freetls.fastly.net/i/u/300x300/2a96cbd8b46e442fc41c2b86b821562f.png', 'size': 'mega'}, {'#text': 'https://lastfm.freetls.fastly.net/i/u/300x300/2a96cbd8b46e442fc41c2b86b821562f.png', 'size': ''}]}, {'name': 'Rev', 'url': 'https://www.last.fm/music/Rev', 'image': [{'#text': 'https://lastfm.freetls.fastly.net/i/u/34s/2a96cbd8b46e442fc41c2b86b821562f.png', 'size': 'small'}, {'#text': 'https://lastfm.freetls.fastly.net/i/u/64s/2a96cbd8b46e442fc41c2b86b821562f.png', 'size': 'medium'}, {'#text': 'https://lastfm.freetls.fastly.net/i/u/174s/2a96cbd8b46e442fc41c2b86b821562f.png', 'size': 'large'}, {'#text': 'https://lastfm.freetls.fastly.net/i/u/300x300/2a96cbd8b46e442fc41c2b86b821562f.png', 'size': 'extralarge'}, {'#text': 'https://lastfm.freetls.fastly.net/i/u/300x300/2a96cbd8b46e442fc41c2b86b821562f.png', 'size': 'mega'}, {'#text': 'https://lastfm.freetls.fastly.net/i/u/300x300/2a96cbd8b46e442fc41c2b86b821562f.png', 'size': ''}]}, {'name': 'LOAT!', 'url': 'https://www.last.fm/music/LOAT%21', 'image': [{'#text': 'https://lastfm.freetls.fastly.net/i/u/34s/2a96cbd8b46e442fc41c2b86b821562f.png', 'size': 'small'}, {'#text': 'https://lastfm.freetls.fastly.net/i/u/64s/2a96cbd8b46e442fc41c2b86b821562f.png', 'size': 'medium'}, {'#text': 'https://lastfm.freetls.fastly.net/i/u/174s/2a96cbd8b46e442fc41c2b86b821562f.png', 'size': 'large'}, {'#text': 'https://lastfm.freetls.fastly.net/i/u/300x300/2a96cbd8b46e442fc41c2b86b821562f.png', 'size': 'extralarge'}, {'#text': 'https://lastfm.freetls.fastly.net/i/u/300x300/2a96cbd8b46e442fc41c2b86b821562f.png', 'size': 'mega'}, {'#text': 'https://lastfm.freetls.fastly.net/i/u/300x300/2a96cbd8b46e442fc41c2b86b821562f.png', 'size': ''}]}, {'name': 'Ciscaux', 'url': 'https://www.last.fm/music/Ciscaux', 'image': [{'#text': 'https://lastfm.freetls.fastly.net/i/u/34s/2a96cbd8b46e442fc41c2b86b821562f.png', 'size': 'small'}, {'#text': 'https://lastfm.freetls.fastly.net/i/u/64s/2a96cbd8b46e442fc41c2b86b821562f.png', 'size': 'medium'}, {'#text': 'https://lastfm.freetls.fastly.net/i/u/174s/2a96cbd8b46e442fc41c2b86b821562f.png', 'size': 'large'}, {'#text': 'https://lastfm.freetls.fastly.net/i/u/300x300/2a96cbd8b46e442fc41c2b86b821562f.png', 'size': 'extralarge'}, {'#text': 'https://lastfm.freetls.fastly.net/i/u/300x300/2a96cbd8b46e442fc41c2b86b821562f.png', 'size': 'mega'}, {'#text': 'https://lastfm.freetls.fastly.net/i/u/300x300/2a96cbd8b46e442fc41c2b86b821562f.png', 'size': ''}]}]}, 'tags': {'tag': [{'name': 'New Zealand', 'url': 'https://www.last.fm/tag/New+Zealand'}, {'name': 'vaportrap', 'url': 'https://www.last.fm/tag/vaportrap'}, {'name': 'aesthetic rap', 'url': 'https://www.last.fm/tag/aesthetic+rap'}]}, 'bio': {'links': {'link': {'#text': '', 'rel': 'original', 'href': 'https://last.fm/music/lilbubblegum/+wiki'}}, 'published': '08 Jun 2022, 15:58', 'summary': 'Luke Winther, better known by his stage name lilbubblegum, is a New Zealand based rapper and singer.\\n\\nHe first started gaining momentum after releasing his breakout single “af1” on his SoundCloud in June 2019. On this track Luke premieres the laid-back $NOT-type delivery which appears on most of his popular tracks. He would go on to collaborate with artist Letoa on singles like “guap”, “e girl” and “af2”. <a href=\"https://www.last.fm/music/lilbubblegum\">Read more on Last.fm</a>', 'content': 'Luke Winther, better known by his stage name lilbubblegum, is a New Zealand based rapper and singer.\\n\\nHe first started gaining momentum after releasing his breakout single “af1” on his SoundCloud in June 2019. On this track Luke premieres the laid-back $NOT-type delivery which appears on most of his popular tracks. He would go on to collaborate with artist Letoa on singles like “guap”, “e girl” and “af2”. <a href=\"https://www.last.fm/music/lilbubblegum\">Read more on Last.fm</a>. User-contributed text is available under the Creative Commons By-SA License; additional terms may apply.'}}}\n",
      "{'artist': {'name': 'Lilac', 'mbid': '1967c6ce-95a4-48f0-8ac7-abe637524aee', 'url': 'https://www.last.fm/music/Lilac', 'image': [{'#text': 'https://lastfm.freetls.fastly.net/i/u/34s/2a96cbd8b46e442fc41c2b86b821562f.png', 'size': 'small'}, {'#text': 'https://lastfm.freetls.fastly.net/i/u/64s/2a96cbd8b46e442fc41c2b86b821562f.png', 'size': 'medium'}, {'#text': 'https://lastfm.freetls.fastly.net/i/u/174s/2a96cbd8b46e442fc41c2b86b821562f.png', 'size': 'large'}, {'#text': 'https://lastfm.freetls.fastly.net/i/u/300x300/2a96cbd8b46e442fc41c2b86b821562f.png', 'size': 'extralarge'}, {'#text': 'https://lastfm.freetls.fastly.net/i/u/300x300/2a96cbd8b46e442fc41c2b86b821562f.png', 'size': 'mega'}, {'#text': 'https://lastfm.freetls.fastly.net/i/u/300x300/2a96cbd8b46e442fc41c2b86b821562f.png', 'size': ''}], 'streamable': '0', 'ontour': '0', 'stats': {'listeners': '205035', 'playcount': '1706212'}, 'similar': {'artist': [{'name': 'brillion.', 'url': 'https://www.last.fm/music/brillion.', 'image': [{'#text': 'https://lastfm.freetls.fastly.net/i/u/34s/2a96cbd8b46e442fc41c2b86b821562f.png', 'size': 'small'}, {'#text': 'https://lastfm.freetls.fastly.net/i/u/64s/2a96cbd8b46e442fc41c2b86b821562f.png', 'size': 'medium'}, {'#text': 'https://lastfm.freetls.fastly.net/i/u/174s/2a96cbd8b46e442fc41c2b86b821562f.png', 'size': 'large'}, {'#text': 'https://lastfm.freetls.fastly.net/i/u/300x300/2a96cbd8b46e442fc41c2b86b821562f.png', 'size': 'extralarge'}, {'#text': 'https://lastfm.freetls.fastly.net/i/u/300x300/2a96cbd8b46e442fc41c2b86b821562f.png', 'size': 'mega'}, {'#text': 'https://lastfm.freetls.fastly.net/i/u/300x300/2a96cbd8b46e442fc41c2b86b821562f.png', 'size': ''}]}, {'name': 'kainbeats', 'url': 'https://www.last.fm/music/kainbeats', 'image': [{'#text': 'https://lastfm.freetls.fastly.net/i/u/34s/2a96cbd8b46e442fc41c2b86b821562f.png', 'size': 'small'}, {'#text': 'https://lastfm.freetls.fastly.net/i/u/64s/2a96cbd8b46e442fc41c2b86b821562f.png', 'size': 'medium'}, {'#text': 'https://lastfm.freetls.fastly.net/i/u/174s/2a96cbd8b46e442fc41c2b86b821562f.png', 'size': 'large'}, {'#text': 'https://lastfm.freetls.fastly.net/i/u/300x300/2a96cbd8b46e442fc41c2b86b821562f.png', 'size': 'extralarge'}, {'#text': 'https://lastfm.freetls.fastly.net/i/u/300x300/2a96cbd8b46e442fc41c2b86b821562f.png', 'size': 'mega'}, {'#text': 'https://lastfm.freetls.fastly.net/i/u/300x300/2a96cbd8b46e442fc41c2b86b821562f.png', 'size': ''}]}, {'name': 'S N U G', 'url': 'https://www.last.fm/music/S+N+U+G', 'image': [{'#text': 'https://lastfm.freetls.fastly.net/i/u/34s/2a96cbd8b46e442fc41c2b86b821562f.png', 'size': 'small'}, {'#text': 'https://lastfm.freetls.fastly.net/i/u/64s/2a96cbd8b46e442fc41c2b86b821562f.png', 'size': 'medium'}, {'#text': 'https://lastfm.freetls.fastly.net/i/u/174s/2a96cbd8b46e442fc41c2b86b821562f.png', 'size': 'large'}, {'#text': 'https://lastfm.freetls.fastly.net/i/u/300x300/2a96cbd8b46e442fc41c2b86b821562f.png', 'size': 'extralarge'}, {'#text': 'https://lastfm.freetls.fastly.net/i/u/300x300/2a96cbd8b46e442fc41c2b86b821562f.png', 'size': 'mega'}, {'#text': 'https://lastfm.freetls.fastly.net/i/u/300x300/2a96cbd8b46e442fc41c2b86b821562f.png', 'size': ''}]}, {'name': 'tender spring', 'url': 'https://www.last.fm/music/tender+spring', 'image': [{'#text': 'https://lastfm.freetls.fastly.net/i/u/34s/2a96cbd8b46e442fc41c2b86b821562f.png', 'size': 'small'}, {'#text': 'https://lastfm.freetls.fastly.net/i/u/64s/2a96cbd8b46e442fc41c2b86b821562f.png', 'size': 'medium'}, {'#text': 'https://lastfm.freetls.fastly.net/i/u/174s/2a96cbd8b46e442fc41c2b86b821562f.png', 'size': 'large'}, {'#text': 'https://lastfm.freetls.fastly.net/i/u/300x300/2a96cbd8b46e442fc41c2b86b821562f.png', 'size': 'extralarge'}, {'#text': 'https://lastfm.freetls.fastly.net/i/u/300x300/2a96cbd8b46e442fc41c2b86b821562f.png', 'size': 'mega'}, {'#text': 'https://lastfm.freetls.fastly.net/i/u/300x300/2a96cbd8b46e442fc41c2b86b821562f.png', 'size': ''}]}, {'name': 'EnLuv', 'url': 'https://www.last.fm/music/EnLuv', 'image': [{'#text': 'https://lastfm.freetls.fastly.net/i/u/34s/2a96cbd8b46e442fc41c2b86b821562f.png', 'size': 'small'}, {'#text': 'https://lastfm.freetls.fastly.net/i/u/64s/2a96cbd8b46e442fc41c2b86b821562f.png', 'size': 'medium'}, {'#text': 'https://lastfm.freetls.fastly.net/i/u/174s/2a96cbd8b46e442fc41c2b86b821562f.png', 'size': 'large'}, {'#text': 'https://lastfm.freetls.fastly.net/i/u/300x300/2a96cbd8b46e442fc41c2b86b821562f.png', 'size': 'extralarge'}, {'#text': 'https://lastfm.freetls.fastly.net/i/u/300x300/2a96cbd8b46e442fc41c2b86b821562f.png', 'size': 'mega'}, {'#text': 'https://lastfm.freetls.fastly.net/i/u/300x300/2a96cbd8b46e442fc41c2b86b821562f.png', 'size': ''}]}]}, 'tags': {'tag': [{'name': 'seen live', 'url': 'https://www.last.fm/tag/seen+live'}, {'name': 'hardcore', 'url': 'https://www.last.fm/tag/hardcore'}, {'name': 'punk', 'url': 'https://www.last.fm/tag/punk'}, {'name': 'electronic', 'url': 'https://www.last.fm/tag/electronic'}, {'name': 'trip-hop', 'url': 'https://www.last.fm/tag/trip-hop'}]}, 'bio': {'links': {'link': {'#text': '', 'rel': 'original', 'href': 'https://last.fm/music/Lilac/+wiki'}}, 'published': '23 Nov 2006, 18:38', 'summary': '1. Producer and member of Helix Tears\\nhttps://lil4c.bandcamp.com/\\n\\n2. Noise rock band from Chicago, IL.\\nhttps://lilacchicago.bandcamp.com/\\n\\n3. Lilac is a Czech singer/songwriter. You can find more here: http://lilac.wz.cz. //\\n\\n4. Also is an argentinean rock band, more information here: http://www.myspace.com/lilacsounds \\n\\n5. Also is an belarusian rock band with female vocalist. <a href=\"https://www.last.fm/music/Lilac\">Read more on Last.fm</a>', 'content': '1. Producer and member of Helix Tears\\nhttps://lil4c.bandcamp.com/\\n\\n2. Noise rock band from Chicago, IL.\\nhttps://lilacchicago.bandcamp.com/\\n\\n3. Lilac is a Czech singer/songwriter. You can find more here: http://lilac.wz.cz. //\\n\\n4. Also is an argentinean rock band, more information here: http://www.myspace.com/lilacsounds \\n\\n5. Also is an belarusian rock band with female vocalist. <a href=\"https://www.last.fm/music/Lilac\">Read more on Last.fm</a>. User-contributed text is available under the Creative Commons By-SA License; additional terms may apply.'}}}\n",
      "{'error': 6, 'message': 'The artist you supplied could not be found', 'links': []}\n",
      "{'error': 6, 'message': 'The artist you supplied could not be found', 'links': []}\n",
      "{'error': 6, 'message': 'The artist you supplied could not be found', 'links': []}\n",
      "{'error': 6, 'message': 'The artist you supplied could not be found', 'links': []}\n",
      "{'error': 6, 'message': 'The artist you supplied could not be found', 'links': []}\n",
      "{'error': 6, 'message': 'The artist you supplied could not be found', 'links': []}\n",
      "{'error': 6, 'message': 'The artist you supplied could not be found', 'links': []}\n",
      "{'error': 6, 'message': 'The artist you supplied could not be found', 'links': []}\n",
      "{'error': 6, 'message': 'The artist you supplied could not be found', 'links': []}\n",
      "{'error': 6, 'message': 'The artist you supplied could not be found', 'links': []}\n",
      "{'error': 6, 'message': 'The artist you supplied could not be found', 'links': []}\n",
      "{'error': 6, 'message': 'The artist you supplied could not be found', 'links': []}\n",
      "{'error': 6, 'message': 'The artist you supplied could not be found', 'links': []}\n",
      "{'error': 6, 'message': 'The artist you supplied could not be found', 'links': []}\n",
      "{'error': 6, 'message': 'The artist you supplied could not be found', 'links': []}\n",
      "{'error': 6, 'message': 'The artist you supplied could not be found', 'links': []}\n",
      "{'error': 6, 'message': 'The artist you supplied could not be found', 'links': []}\n",
      "{'error': 6, 'message': 'The artist you supplied could not be found', 'links': []}\n",
      "{'error': 6, 'message': 'The artist you supplied could not be found', 'links': []}\n",
      "{'error': 6, 'message': 'The artist you supplied could not be found', 'links': []}\n"
     ]
    }
   ],
   "source": [
    "clown_count = 0\n",
    "for clown in range(50):\n",
    "    mbid_bio_search = (\n",
    "        LFM_master_ep\n",
    "        + \"artist.getinfo&artist=\"\n",
    "        + str(lil_clown_car[clown_count]['artist']).lower().replace(\" \", \"%\")\n",
    "        + \"&api_key=\"\n",
    "        + LFM_key\n",
    "        + \"&format=json\"\n",
    "    )\n",
    "    mbid_bio_search = requests.get(mbid_bio_search)\n",
    "    mbid_bio_search = mbid_bio_search.json()\n",
    "    print(mbid_bio_search)\n",
    "    clown_count += 1\n",
    "\n",
    "    # lil_mbid = lil_clown_car[clown_count][\"artist\"]\n",
    "    # lil_mbid_finder = (\n",
    "    #     mbid_query_endpoint + (str(lil_mbid).replace(\" \", \"%\")).lower() + \"&fmt=json\"\n",
    "    # )\n",
    "    # lil_mbid_finder = requests.get(lil_mbid_finder)\n",
    "    # lil_mbid_finder = lil_mbid_finder.json()\n",
    "\n",
    "    # lil_clown_car[clown_count][\"xl-image\"] = mbid_bio_search[\"artist\"][\"image\"][-3][\n",
    "    #     \"#text\"\n",
    "    # ]\n",
    "    # lil_clown_car[clown_count][\"bio-summary\"] = mbid_bio_search[\"artist\"][\"bio\"][\n",
    "    #     \"summary\"\n",
    "    # ]\n",
    "    # lil_clown_car[clown_count][\"bio-content\"] = mbid_bio_search[\"artist\"][\"bio\"][\n",
    "    #     \"content\"\n",
    "    # ]\n",
    "    # lil_clown_car[clown_count][\"tags\"] = mbid_bio_search[\"artist\"][\"tags\"][\"tag\"]\n",
    "    # lil_clown_car[clown_count][\"mbid\"] = lil_mbid_finder[\"artist\"][0][\"id\"]\n",
    "    # clown_count += 1\n",
    "    # time.sleep(0.5)"
   ]
  },
  {
   "cell_type": "code",
   "execution_count": 15,
   "metadata": {},
   "outputs": [
    {
     "ename": "TypeError",
     "evalue": "unsupported operand type(s) for |: 'str' and 'str'",
     "output_type": "error",
     "traceback": [
      "\u001b[0;31m---------------------------------------------------------------------------\u001b[0m",
      "\u001b[0;31mTypeError\u001b[0m                                 Traceback (most recent call last)",
      "\u001b[1;32m/Users/bean/Dropbox/code/lede/homework/04-homework/Last FM API (Music).ipynb Cell 26'\u001b[0m in \u001b[0;36m<cell line: 2>\u001b[0;34m()\u001b[0m\n\u001b[1;32m      <a href='vscode-notebook-cell:/Users/bean/Dropbox/code/lede/homework/04-homework/Last%20FM%20API%20%28Music%29.ipynb#ch0000073?line=8'>9</a>\u001b[0m lil_mbid_finder \u001b[39m=\u001b[39m requests\u001b[39m.\u001b[39mget(lil_mbid_finder)\n\u001b[1;32m     <a href='vscode-notebook-cell:/Users/bean/Dropbox/code/lede/homework/04-homework/Last%20FM%20API%20%28Music%29.ipynb#ch0000073?line=9'>10</a>\u001b[0m lil_mbid_finder \u001b[39m=\u001b[39m lil_mbid_finder\u001b[39m.\u001b[39mjson()\n\u001b[0;32m---> <a href='vscode-notebook-cell:/Users/bean/Dropbox/code/lede/homework/04-homework/Last%20FM%20API%20%28Music%29.ipynb#ch0000073?line=10'>11</a>\u001b[0m \u001b[39mif\u001b[39;00m \u001b[39m\"\u001b[39;49m\u001b[39mmbid\u001b[39;49m\u001b[39m\"\u001b[39;49m \u001b[39m|\u001b[39;49m \u001b[39m\"\u001b[39;49m\u001b[39mid\u001b[39;49m\u001b[39m\"\u001b[39;49m \u001b[39min\u001b[39;00m lil_mbid_finder[\u001b[39m'\u001b[39m\u001b[39martists\u001b[39m\u001b[39m'\u001b[39m][\u001b[39m0\u001b[39m]\u001b[39m.\u001b[39mkeys() \u001b[39mor\u001b[39;00m \u001b[39m\"\u001b[39m\u001b[39mmbid\u001b[39m\u001b[39m\"\u001b[39m \u001b[39m|\u001b[39m \u001b[39m\"\u001b[39m\u001b[39mid\u001b[39m\u001b[39m\"\u001b[39m \u001b[39min\u001b[39;00m lil_mbid_finder[\u001b[39m'\u001b[39m\u001b[39martists\u001b[39m\u001b[39m'\u001b[39m]\u001b[39m.\u001b[39mkeys():\n\u001b[1;32m     <a href='vscode-notebook-cell:/Users/bean/Dropbox/code/lede/homework/04-homework/Last%20FM%20API%20%28Music%29.ipynb#ch0000073?line=11'>12</a>\u001b[0m     \u001b[39mif\u001b[39;00m lil_mbid_finder[\u001b[39m'\u001b[39m\u001b[39martists\u001b[39m\u001b[39m'\u001b[39m][\u001b[39m'\u001b[39m\u001b[39mid\u001b[39m\u001b[39m'\u001b[39m] \u001b[39m!=\u001b[39m \u001b[39mNone\u001b[39;00m:\n\u001b[1;32m     <a href='vscode-notebook-cell:/Users/bean/Dropbox/code/lede/homework/04-homework/Last%20FM%20API%20%28Music%29.ipynb#ch0000073?line=12'>13</a>\u001b[0m         lil_clown_car[lil_mbid_counter][\u001b[39m0\u001b[39m][\u001b[39m'\u001b[39m\u001b[39mmbid\u001b[39m\u001b[39m'\u001b[39m] \u001b[39m=\u001b[39m lil_mbid_finder[\u001b[39m'\u001b[39m\u001b[39martists\u001b[39m\u001b[39m'\u001b[39m][\u001b[39m0\u001b[39m][\u001b[39m'\u001b[39m\u001b[39mid\u001b[39m\u001b[39m'\u001b[39m]\n",
      "\u001b[0;31mTypeError\u001b[0m: unsupported operand type(s) for |: 'str' and 'str'"
     ]
    }
   ],
   "source": [
    "mbid_query_endpoint = \"https://musicbrainz.org/ws/2/artist/?query=artist:\"\n",
    "for lil_mbid_counter, _ in enumerate(range(50), start=0):\n",
    "    lil_mbid = lil_clown_car[lil_mbid_counter]['artist']\n",
    "    lil_mbid_finder = (\n",
    "        mbid_query_endpoint\n",
    "        + ((lil_mbid).replace(\" \",\"%\")).lower()\n",
    "        + \"&fmt=json\"\n",
    "    )\n",
    "    lil_mbid_finder = requests.get(lil_mbid_finder)\n",
    "    lil_mbid_finder = lil_mbid_finder.json()\n",
    "    if \"mbid\"  \"id\" in lil_mbid_finder['artists'][0].keys() or \"mbid\" | \"id\" in lil_mbid_finder['artists'].keys():\n",
    "        if lil_mbid_finder['artists']['id'] != None:\n",
    "            lil_clown_car[lil_mbid_counter][0]['mbid'] = lil_mbid_finder['artists'][0]['id']\n",
    "            print(f\" {lil_mbid_counter}: {lil_clown_car[lil_mbid_counter]['artist']} — OK\")\n",
    "        elif lil_mbid_finder['artists'][0]['mbid'] != None:\n",
    "            lil_clown_car[lil_mbid_counter]['mbid'] = lil_mbid_finder['artists'][0]['mbid']\n",
    "            print(f\" {lil_mbid_counter}: {lil_clown_car[lil_mbid_counter]['artist']} — OK\")\n",
    "        elif lil_mbid_finder['artists']['id'] != None:\n",
    "            lil_clown_car[lil_mbid_counter]['mbid'] = lil_mbid_finder['artists']['mbid']\n",
    "            print(f\" {lil_mbid_counter}: {lil_clown_car[lil_mbid_counter]['artist']} — OK\")\n",
    "        elif lil_mbid_finder['artists']['mbid'] != None:\n",
    "            lil_clown_car[lil_mbid_counter]['mbid'] = lil_mbid_finder['artists']['mbid']\n",
    "            print(f\" {lil_mbid_counter}: {lil_clown_car[lil_mbid_counter]['artist']} — OK\")\n",
    "        else:\n",
    "            print('Sadness')\n",
    "    else:\n",
    "        print('Sadness')\n",
    "    time.sleep(1)"
   ]
  },
  {
   "cell_type": "markdown",
   "metadata": {},
   "source": [
    "Let's watch me root around blindly for a few lines until I find what I'm looking for:"
   ]
  },
  {
   "cell_type": "markdown",
   "metadata": {},
   "source": [
    "Let's make a loop that adds every artist's mbid to their dictionary:"
   ]
  },
  {
   "cell_type": "code",
   "execution_count": null,
   "metadata": {},
   "outputs": [],
   "source": [
    "# mbid_query = mbid_query_endpoint + str(lil_clown_car[0][\"artist\"]).replace(\" \", \"%\").lower() + \"&fmt=json\"\n",
    "# mbid_query = requests.get(mbid_query)\n",
    "# mbid_query = mbid_query.json()\n",
    "# mbid_query['artists'][0].keys()"
   ]
  },
  {
   "cell_type": "code",
   "execution_count": null,
   "metadata": {},
   "outputs": [],
   "source": [
    "# lil_mbid = (\n",
    "#         mbid_query_endpoint\n",
    "#         + str(lil_clown_car[0][\"artist\"]).replace(\" \", \"%\").lower()\n",
    "#         + (\"&limit={result_count}\")\n",
    "#         + \"&fmt=json\"\n",
    "#     )\n",
    "# lil_mbid = requests.get(lil_mbid)\n",
    "# lil_mbid = lil_mbid.json()\n",
    "# lil_mbid"
   ]
  },
  {
   "cell_type": "markdown",
   "metadata": {},
   "source": [
    "## 6) Print every tag of that artist"
   ]
  },
  {
   "cell_type": "markdown",
   "metadata": {},
   "source": [
    "Let's make sure we know where these tags are:"
   ]
  },
  {
   "cell_type": "code",
   "execution_count": null,
   "metadata": {},
   "outputs": [],
   "source": [
    "# lil_clown_car[19].keys()\n",
    "# lil_clown_car[19]['tags']\n",
    "# lil_clown_car[19]['tags'][0]['name']  # Yahtzee.\n"
   ]
  },
  {
   "cell_type": "code",
   "execution_count": null,
   "metadata": {},
   "outputs": [],
   "source": [
    "artist_index = 19\n",
    "artist_tags = [lil_clown_car[artist_index]['tags'][tag]['name'] for tag in range(len(lil_clown_car[artist_index]['tags'][0]))]\n",
    "\n",
    "print(\n",
    "    f\"Here's a list of all of {lil_clown_car[artist_index]['artist']}'s tags:\\n{artist_tags}\\n\"\n",
    ")"
   ]
  },
  {
   "cell_type": "markdown",
   "metadata": {},
   "source": [
    "# GETTING A LITTLE CRAZY\n",
    "\n",
    "So you know your original list of musicians? I want to get tag data for ALL OF THEM. How are we going to do that?\n",
    "\n",
    "## 7) Find the mbids (again)\n",
    "\n",
    "If we have a musician with an mbid of `AAA-AAA-AAA`, we get their info from a url like `http://ws.audioscrobbler.com/blahblah/?api_key=12345&mbid=AAA-AAA-AAA`.\n",
    "\n",
    "|artist|url|\n",
    "|---|---|\n",
    "|`AAA-AAA-AAA`|`http://ws.audioscrobbler.com/blahblah/?api_key=12345&mbid=AAA-AAA-AAA`|\n",
    "|`BBB-BBB-BBB`|`http://ws.audioscrobbler.com/blahblah/?api_key=12345&mbid=BBB-BBB-BBB`|\n",
    "|`CCC-CCC-CCC`|`http://ws.audioscrobbler.com/blahblah/?api_key=12345&mbid=CCC-CCC-CCC`|\n",
    "\n",
    "I guess we should start trying to get a list of all of the mbids.\n",
    "\n",
    "**Loop through your artists, and print out the `mbid` for each artist**\n",
    "\n",
    "- *Tip: You probably need to request your artist search result data again, because you probably saved over `data` with your other API request. Maybe call it `artist_data` this time?*\n",
    "- *Tip: If the artist does NOT have an `mbid`, don't print it.*"
   ]
  },
  {
   "cell_type": "markdown",
   "metadata": {},
   "source": [
    "Let's give myself an even larger pat on the back for doing some heavy lifting earlier, meaning that I can can answer this question with a one-liner."
   ]
  },
  {
   "cell_type": "code",
   "execution_count": null,
   "metadata": {},
   "outputs": [],
   "source": [
    "lil_clown_car[34]['mbid']"
   ]
  },
  {
   "cell_type": "code",
   "execution_count": 56,
   "metadata": {},
   "outputs": [
    {
     "ename": "KeyError",
     "evalue": "'mbid'",
     "output_type": "error",
     "traceback": [
      "\u001b[0;31m---------------------------------------------------------------------------\u001b[0m",
      "\u001b[0;31mKeyError\u001b[0m                                  Traceback (most recent call last)",
      "\u001b[1;32m/Users/bean/Dropbox/code/lede/homework/04-homework/Last FM API (Music).ipynb Cell 42'\u001b[0m in \u001b[0;36m<cell line: 2>\u001b[0;34m()\u001b[0m\n\u001b[1;32m      <a href='vscode-notebook-cell:/Users/bean/Dropbox/code/lede/homework/04-homework/Last%20FM%20API%20%28Music%29.ipynb#ch0000045?line=0'>1</a>\u001b[0m clown_count \u001b[39m=\u001b[39m \u001b[39m0\u001b[39m\n\u001b[1;32m      <a href='vscode-notebook-cell:/Users/bean/Dropbox/code/lede/homework/04-homework/Last%20FM%20API%20%28Music%29.ipynb#ch0000045?line=1'>2</a>\u001b[0m \u001b[39mfor\u001b[39;00m clown_count \u001b[39min\u001b[39;00m \u001b[39mrange\u001b[39m(\u001b[39mlen\u001b[39m(lil_clown_car)):\n\u001b[0;32m----> <a href='vscode-notebook-cell:/Users/bean/Dropbox/code/lede/homework/04-homework/Last%20FM%20API%20%28Music%29.ipynb#ch0000045?line=2'>3</a>\u001b[0m     \u001b[39mif\u001b[39;00m lil_clown_car[clown_count][\u001b[39m'\u001b[39;49m\u001b[39mmbid\u001b[39;49m\u001b[39m'\u001b[39;49m] \u001b[39m!=\u001b[39m \u001b[39mNone\u001b[39;00m:\n\u001b[1;32m      <a href='vscode-notebook-cell:/Users/bean/Dropbox/code/lede/homework/04-homework/Last%20FM%20API%20%28Music%29.ipynb#ch0000045?line=3'>4</a>\u001b[0m         \u001b[39mprint\u001b[39m(lil_clown_car[clown_count][\u001b[39m'\u001b[39m\u001b[39mmbid\u001b[39m\u001b[39m'\u001b[39m])\n\u001b[1;32m      <a href='vscode-notebook-cell:/Users/bean/Dropbox/code/lede/homework/04-homework/Last%20FM%20API%20%28Music%29.ipynb#ch0000045?line=4'>5</a>\u001b[0m     clown_count \u001b[39m+\u001b[39m\u001b[39m=\u001b[39m \u001b[39m1\u001b[39m\n",
      "\u001b[0;31mKeyError\u001b[0m: 'mbid'"
     ]
    }
   ],
   "source": [
    "clown_count = 0\n",
    "for clown_count in range(len(lil_clown_car)):\n",
    "    if lil_clown_car[clown_count]['mbid'] != None:\n",
    "        print(lil_clown_car[clown_count]['mbid'])\n",
    "    clown_count += 1"
   ]
  },
  {
   "cell_type": "code",
   "execution_count": null,
   "metadata": {},
   "outputs": [],
   "source": []
  },
  {
   "cell_type": "markdown",
   "metadata": {},
   "source": [
    "Your results should look something like\n",
    "\n",
    "```\n",
    "6e0c7c0e-cba5-4c2c-a652-38f71ef5785d\n",
    "1550f952-c91b-40d7-9b4d-d26a259ee932\n",
    "1b72331b-3a97-4981-a81c-eeee9c275d28\n",
    "5f1adfe1-4d07-4141-b181-79e5d379d539\n",
    "a95384b1-6aec-468c-ae0d-8c6daf87c4c2\n",
    "bc1b5c95-e6d6-46b5-957a-5e8908b02c1e\n",
    "243c6f61-d83b-4459-bebd-5899df0da111\n",
    "```"
   ]
  },
  {
   "cell_type": "markdown",
   "metadata": {},
   "source": [
    "## 8) Saving those mbids\n",
    "\n",
    "For those `mbid` values, instead of printing them out, save them to a new list of just mbid values. Call this list `mbids`.\n",
    "\n",
    "- *Tip: Use `.append` to add a single element onto a list*"
   ]
  },
  {
   "cell_type": "code",
   "execution_count": null,
   "metadata": {},
   "outputs": [],
   "source": []
  },
  {
   "cell_type": "markdown",
   "metadata": {},
   "source": [
    "Your results should look something like\n",
    "\n",
    "```['6e0c7c0e-cba5-4c2c-a652-38f71ef5785d',\n",
    " '1550f952-c91b-40d7-9b4d-d26a259ee932',\n",
    " '1b72331b-3a97-4981-a81c-eeee9c275d28',\n",
    " '5f1adfe1-4d07-4141-b181-79e5d379d539',\n",
    " 'a95384b1-6aec-468c-ae0d-8c6daf87c4c2',\n",
    " 'bc1b5c95-e6d6-46b5-957a-5e8908b02c1e',\n",
    " '243c6f61-d83b-4459-bebd-5899df0da111',\n",
    " '8ba17cf6-bec2-4ae4-9820-b1cda47adc08',\n",
    " 'ad29ae1c-2eda-4071-9dc8-31910e7e546c',\n",
    " '3268f062-6e76-480a-a384-e1dd2a276afb',\n",
    " '3ad4f6ec-253f-4050-8849-ca26266edfb8',\n",
    " '9b5ce0c1-1bc0-4ea2-a8d3-f5ee7af9eda8',\n",
    " '981d39fc-bd00-4cc6-ac67-6410f8b89098',\n",
    " 'b89f4c50-72f5-48ce-b08c-a643b191b24f',\n",
    " 'bc21df5c-3d79-479b-b638-8ddb5ecea403',\n",
    " 'c9cd225b-4883-428e-82c2-73e0b6282fb6',\n",
    " '9acaf734-b380-4c48-954c-a2cf1d7990a9',\n",
    " 'd4d5ae85-700c-4a55-8a39-7f923da07ef2',\n",
    " '77fafce8-a32f-4d42-bdce-266bbf913cee',\n",
    " '50ad1cde-1536-4268-a55f-e47a7b8280ab',\n",
    " '9803d120-716d-45ba-9eb7-9a120813f908',\n",
    " 'b27560ea-2783-4a91-be45-9e8711917562',\n",
    " '194e87c9-b3fe-4fbd-82a7-8c54b4dd4c76',\n",
    " 'fd90af91-ed07-4e85-8816-26c954fe5286',\n",
    " '5652bb3e-f225-49de-9637-5aa1539b4a7c']```"
   ]
  },
  {
   "cell_type": "markdown",
   "metadata": {},
   "source": [
    "## 9) Printing our API urls\n",
    "\n",
    "To get tag data for each artist, you need to use those `mbid` values to access their artist page on the API. Loop through the mbids, displying the URL you'll need to access.\n",
    "\n",
    "- *Tip: You don't want to use a comma when printing, because commas add spaces into your text and URLs can't have that*\n",
    "- *Tip: Make sure your URL has `artist.getinfo` in it - if not, you're using the wrong endpoint.*"
   ]
  },
  {
   "cell_type": "code",
   "execution_count": null,
   "metadata": {},
   "outputs": [],
   "source": []
  },
  {
   "cell_type": "markdown",
   "metadata": {},
   "source": [
    "Your results should look something like\n",
    "\n",
    "```http://ws.audioscrobbler.com/2.0/?method=artist.getinfo&api_key=XXXXX&format=json&mbid=6e0c7c0e-cba5-4c2c-a652-38f71ef5785d\n",
    "http://ws.audioscrobbler.com/2.0/?method=artist.getinfo&api_key=XXXXX&format=json&mbid=1550f952-c91b-40d7-9b4d-d26a259ee932\n",
    "http://ws.audioscrobbler.com/2.0/?method=artist.getinfo&api_key=XXXXX&format=json&mbid=1b72331b-3a97-4981-a81c-eeee9c275d28\n",
    "http://ws.audioscrobbler.com/2.0/?method=artist.getinfo&api_key=XXXXX&format=json&mbid=5f1adfe1-4d07-4141-b181-79e5d379d539\n",
    "http://ws.audioscrobbler.com/2.0/?method=artist.getinfo&api_key=XXXXX&format=json&mbid=a95384b1-6aec-468c-ae0d-8c6daf87c4c2\n",
    "http://ws.audioscrobbler.com/2.0/?method=artist.getinfo&api_key=XXXXX&format=json&mbid=bc1b5c95-e6d6-46b5-957a-5e8908b02c1e```"
   ]
  },
  {
   "cell_type": "markdown",
   "metadata": {},
   "source": [
    "## OKAY HERE IS A LITTLE INFORMATION: Using our API urls\n",
    "\n",
    "This time instead of just *displaying* the URL, we're going to *request and process it*. **But first I'm going to teach you something.**\n",
    "\n",
    "When you're dealing with an API, you don't want to make a million requests, have bad code, and then need to do those million requests again. It's usually best to test your code with a few of the results first.\n",
    "\n",
    "So, if we have a list of numbers like this:"
   ]
  },
  {
   "cell_type": "code",
   "execution_count": null,
   "metadata": {},
   "outputs": [],
   "source": [
    "numbers = [4, 5, 6, 7]\n",
    "numbers"
   ]
  },
  {
   "cell_type": "markdown",
   "metadata": {},
   "source": [
    "You can actually say to Python, **give me the first two**, and it will only give you the first two."
   ]
  },
  {
   "cell_type": "code",
   "execution_count": null,
   "metadata": {},
   "outputs": [],
   "source": [
    "numbers[:2]"
   ]
  },
  {
   "cell_type": "markdown",
   "metadata": {},
   "source": [
    "The is **very convenient** with loopng with APIs, because instead of trying to use all FIFTY artists, you can just say \"hey, please try this out with 2 of them\" and you don't waste time."
   ]
  },
  {
   "cell_type": "markdown",
   "metadata": {},
   "source": [
    "## 10) Using the first three `mbids`, request the API urls and print the artist's name.\n",
    "\n",
    "You built the URLs in the last question, now it's time to use them! Use `requests` etc to grab the URL and get out the artist's name.\n",
    "\n",
    "- *Tip: The code is the same as last time you got an artist's name from their info page, it's just going to be inside of a loop*\n",
    "- *Tip: USE `PRINT` TO SEE WHAT YOU ARE LOOKING AT!!!!!*"
   ]
  },
  {
   "cell_type": "code",
   "execution_count": null,
   "metadata": {},
   "outputs": [],
   "source": []
  },
  {
   "cell_type": "markdown",
   "metadata": {},
   "source": [
    "## 11) Using the first three `mbids`, request the API urls and print the artist's name and their tags\n",
    "\n",
    "- *Tip: The code is the same as last time you got an artist's name from their info page, it's just going to be inside of a loop*\n",
    "- *Tip: It's a for loop in a for loop!*"
   ]
  },
  {
   "cell_type": "code",
   "execution_count": null,
   "metadata": {},
   "outputs": [],
   "source": []
  },
  {
   "cell_type": "markdown",
   "metadata": {},
   "source": [
    "## 12) Using the first ten mbids, print the artist's name and whether they're a rapper\n",
    "\n",
    "Only print their name ONCE and only print whether they are hip hop or not ONCE.\n",
    "\n",
    "- *Tip: Rap tags include hip hop, swag, crunk, rap, dirty south, and probably a bunch of other stuff! You can include as many categories as you'd like.*\n",
    "- *Tip: You can use `2 in [1, 2, 3]` to find out if `2` is in the list of `[1, 2, 3]`.*\n",
    "- *Tip: Every time you look at a new artist, you can say they are NOT a rapper. And once you find out one of their tags is hip hop or rap, then you can note that they're a rapper. Then once you're done looking at their tags, then you can say HEY this is a rapper, or HEY this is not a rapper.*"
   ]
  },
  {
   "cell_type": "code",
   "execution_count": null,
   "metadata": {},
   "outputs": [],
   "source": []
  },
  {
   "cell_type": "markdown",
   "metadata": {},
   "source": [
    "Your results might look something like\n",
    "\n",
    "```ARTIST: Lily Allen\n",
    "NO hip hop\n",
    "ARTIST: Lil B\n",
    "YES hip hop\n",
    "ARTIST: Lilly Wood & The Prick\n",
    "NO hip hop\n",
    "ARTIST: Lil Ugly Mane\n",
    "YES hip hop\n",
    "ARTIST: Lil Jon\n",
    "YES hip hop\n",
    "ARTIST: Lil' Kim\n",
    "YES hip hop\n",
    "ARTIST: Lil Jon & The East Side Boyz\n",
    "YES hip hop\n",
    "```"
   ]
  },
  {
   "cell_type": "markdown",
   "metadata": {},
   "source": [
    "## 13) What percent of \"lil\" results are rappers?"
   ]
  },
  {
   "cell_type": "code",
   "execution_count": null,
   "metadata": {},
   "outputs": [],
   "source": []
  },
  {
   "cell_type": "markdown",
   "metadata": {},
   "source": [
    "## 14) Seriously you are all-powerful now."
   ]
  },
  {
   "cell_type": "code",
   "execution_count": null,
   "metadata": {},
   "outputs": [],
   "source": []
  }
 ],
 "metadata": {
  "kernelspec": {
   "display_name": "Python 3.10.3 64-bit ('3.10.3')",
   "language": "python",
   "name": "python3"
  },
  "language_info": {
   "codemirror_mode": {
    "name": "ipython",
    "version": 3
   },
   "file_extension": ".py",
   "mimetype": "text/x-python",
   "name": "python",
   "nbconvert_exporter": "python",
   "pygments_lexer": "ipython3",
   "version": "3.10.3"
  },
  "vscode": {
   "interpreter": {
    "hash": "10626171d4353dd8d0f12b0dae77464b904fee8f635bb045a55f368206a04bde"
   }
  }
 },
 "nbformat": 4,
 "nbformat_minor": 4
}
