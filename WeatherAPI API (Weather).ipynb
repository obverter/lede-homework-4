{
 "cells": [
  {
   "cell_type": "markdown",
   "metadata": {},
   "source": [
    "# WeatherAPI (Weather)\n",
    "\n",
    "Answer the following questions using [WeatherAPI](http://www.weatherapi.com/). I've added three cells for most questions but you're free to use more or less! Hold `Shift` and hit `Enter` to run a cell, and use the `+` on the top left to add a new cell to a notebook.\n",
    "\n",
    "Be sure to take advantage of both the documentation and the API Explorer!\n",
    "\n",
    "## 0) Import any libraries you might need\n",
    "\n",
    "- *Tip: We're going to be downloading things from the internet, so we probably need `requests`.*\n",
    "- *Tip: Remember you only need to import requests once!*"
   ]
  },
  {
   "cell_type": "code",
   "execution_count": 3,
   "metadata": {
    "collapsed": true,
    "jupyter": {
     "outputs_hidden": true
    }
   },
   "outputs": [],
   "source": [
    "import requests"
   ]
  },
  {
   "cell_type": "code",
   "execution_count": 4,
   "metadata": {
    "collapsed": true,
    "jupyter": {
     "outputs_hidden": true
    }
   },
   "outputs": [],
   "source": [
    "weather_api_key = \"6e398a633db74946801165709221306\""
   ]
  },
  {
   "cell_type": "markdown",
   "metadata": {},
   "source": [
    "## 1) Make a request to the Weather API for where you were born (or lived, or want to visit!).\n",
    "\n",
    "- *Tip: The URL we used in class was for a place near San Francisco. What was the format of the endpoint that made this happen?*\n",
    "- *Tip: Save the URL as a separate variable, and be sure to not have `[` and `]` inside.*\n",
    "- *Tip: How is north vs. south and east vs. west latitude/longitude represented? Is it the normal North/South/East/West?*\n",
    "- *Tip: You know it's JSON, but Python doesn't! Make sure you aren't trying to deal with plain text.* \n",
    "- *Tip: Once you've imported the JSON into a variable, check the timezone's name to make sure it seems like it got the right part of the world!*"
   ]
  },
  {
   "cell_type": "code",
   "execution_count": 5,
   "metadata": {
    "collapsed": true,
    "jupyter": {
     "outputs_hidden": true
    }
   },
   "outputs": [],
   "source": [
    "sf_url = \"http://api.weatherapi.com/v1/current.json?key=6e398a633db74946801165709221306&q=94114&aqi=no\"\n"
   ]
  },
  {
   "cell_type": "code",
   "execution_count": 12,
   "metadata": {
    "collapsed": true,
    "jupyter": {
     "outputs_hidden": true
    }
   },
   "outputs": [
    {
     "data": {
      "text/plain": [
       "{'location': {'name': 'San Francisco',\n",
       "  'region': 'California',\n",
       "  'country': 'USA',\n",
       "  'lat': 37.76,\n",
       "  'lon': -122.44,\n",
       "  'tz_id': 'America/Los_Angeles',\n",
       "  'localtime_epoch': 1655702677,\n",
       "  'localtime': '2022-06-19 22:24'},\n",
       " 'current': {'last_updated_epoch': 1655702100,\n",
       "  'last_updated': '2022-06-19 22:15',\n",
       "  'temp_c': 12.0,\n",
       "  'temp_f': 53.6,\n",
       "  'is_day': 0,\n",
       "  'condition': {'text': 'Mist',\n",
       "   'icon': '//cdn.weatherapi.com/weather/64x64/night/143.png',\n",
       "   'code': 1030},\n",
       "  'wind_mph': 17.4,\n",
       "  'wind_kph': 28.1,\n",
       "  'wind_degree': 330,\n",
       "  'wind_dir': 'NNW',\n",
       "  'pressure_mb': 1019.0,\n",
       "  'pressure_in': 30.09,\n",
       "  'precip_mm': 0.0,\n",
       "  'precip_in': 0.0,\n",
       "  'humidity': 94,\n",
       "  'cloud': 0,\n",
       "  'feelslike_c': 10.8,\n",
       "  'feelslike_f': 51.4,\n",
       "  'vis_km': 8.0,\n",
       "  'vis_miles': 4.0,\n",
       "  'uv': 1.0,\n",
       "  'gust_mph': 11.6,\n",
       "  'gust_kph': 18.7}}"
      ]
     },
     "execution_count": 12,
     "metadata": {},
     "output_type": "execute_result"
    }
   ],
   "source": [
    "sf_weather = requests.get(sf_url)\n",
    "sf_weather = sf_weather.json()\n",
    "sf_weather"
   ]
  },
  {
   "cell_type": "markdown",
   "metadata": {},
   "source": [
    "## 2) What's the current wind speed? How much warmer does it feel than it actually is?\n",
    "\n",
    "- *Tip: You can do this by browsing through the dictionaries, but it might be easier to read the documentation*\n",
    "- *Tip: For the second half: it **is** one temperature, and it **feels** a different temperature. Calculate the difference.*"
   ]
  },
  {
   "cell_type": "code",
   "execution_count": 16,
   "metadata": {
    "collapsed": true,
    "jupyter": {
     "outputs_hidden": true
    }
   },
   "outputs": [
    {
     "data": {
      "text/plain": [
       "dict_keys(['last_updated_epoch', 'last_updated', 'temp_c', 'temp_f', 'is_day', 'condition', 'wind_mph', 'wind_kph', 'wind_degree', 'wind_dir', 'pressure_mb', 'pressure_in', 'precip_mm', 'precip_in', 'humidity', 'cloud', 'feelslike_c', 'feelslike_f', 'vis_km', 'vis_miles', 'uv', 'gust_mph', 'gust_kph'])"
      ]
     },
     "execution_count": 16,
     "metadata": {},
     "output_type": "execute_result"
    }
   ],
   "source": [
    "# sf_weather['current'].keys()\n",
    "sf_weather['current']['wind_mph']\n",
    "sf_weather['current'].keys()\n"
   ]
  },
  {
   "cell_type": "code",
   "execution_count": 18,
   "metadata": {},
   "outputs": [
    {
     "name": "stdout",
     "output_type": "stream",
     "text": [
      "The current wind speed in San Francisco's Mission District is 17.4 mph.\n",
      "The current temperature is 53.6°F, but it feels 2.2 degrees colder than it actually is.\n"
     ]
    }
   ],
   "source": [
    "print(\n",
    "    f\"The current wind speed in San Francisco's Mission District is {sf_weather['current']['wind_mph']} mph.\\nThe current temperature is {sf_weather['current']['temp_f']}°F, but it feels {round(sf_weather['current']['temp_f'] - sf_weather['current']['feelslike_f'], 1)} degrees colder than it actually is.\"\n",
    ")"
   ]
  },
  {
   "cell_type": "code",
   "execution_count": null,
   "metadata": {},
   "outputs": [],
   "source": []
  },
  {
   "cell_type": "code",
   "execution_count": null,
   "metadata": {},
   "outputs": [],
   "source": []
  },
  {
   "cell_type": "markdown",
   "metadata": {},
   "source": [
    "## 3) What is the API endpoint for moon-related information? For the place you decided on above, how much of the moon will be visible tomorrow?\n",
    "\n",
    "- *Tip: Check the documentation!*\n",
    "- *Tip: If you aren't sure what something means, ask in Slack*"
   ]
  },
  {
   "cell_type": "code",
   "execution_count": 23,
   "metadata": {},
   "outputs": [
    {
     "name": "stdout",
     "output_type": "stream",
     "text": [
      "The endpoint for San Francisco moon info is http://api.weatherapi.com/v1/astronomy.json?key=6e398a633db74946801165709221306&q=94114&dt=2022-06-21\n",
      "Tomorrow, the moon will be 52% visible.\n"
     ]
    }
   ],
   "source": [
    "sf_astro_url = \"http://api.weatherapi.com/v1/astronomy.json?key=6e398a633db74946801165709221306&q=94114&dt=2022-06-21\"\n",
    "sf_astro = requests.get(sf_astro_url)\n",
    "sf_astro = sf_astro.json()\n",
    "print(f\"The endpoint for San Francisco moon info is {sf_astro_url}\\nTomorrow, the moon will be {sf_astro['astronomy']['astro']['moon_illumination']}% visible.\")"
   ]
  },
  {
   "cell_type": "code",
   "execution_count": null,
   "metadata": {},
   "outputs": [],
   "source": []
  },
  {
   "cell_type": "code",
   "execution_count": null,
   "metadata": {},
   "outputs": [],
   "source": []
  },
  {
   "cell_type": "markdown",
   "metadata": {},
   "source": [
    "## 4) What's the difference between the high and low temperatures for today?\n",
    "\n",
    "- *Tip: When you requested moon data, you probably overwrote your variables! If so, you'll need to make a new request.*"
   ]
  },
  {
   "cell_type": "code",
   "execution_count": 33,
   "metadata": {
    "collapsed": true,
    "jupyter": {
     "outputs_hidden": true
    }
   },
   "outputs": [],
   "source": [
    "sf_forecast_url = \"http://api.weatherapi.com/v1/forecast.json?key=6e398a633db74946801165709221306&q=94114&days=3&aqi=no&alerts=no\"\n",
    "sf_forecast = requests.get(sf_forecast_url)\n",
    "sf_forecast = sf_forecast.json()\n"
   ]
  },
  {
   "cell_type": "code",
   "execution_count": 34,
   "metadata": {
    "collapsed": true,
    "jupyter": {
     "outputs_hidden": true
    }
   },
   "outputs": [
    {
     "name": "stdout",
     "output_type": "stream",
     "text": [
      "The difference between San Francisco's forecasted high and low temperatures on 2022-06-19 is 7.4°F.\n"
     ]
    }
   ],
   "source": [
    "forecast_today = sf_forecast['forecast']['forecastday'][0]['day']\n",
    "print(\n",
    "    f\"The difference between San Francisco's forecasted high and low temperatures on {sf_forecast['forecast']['forecastday'][0]['date']} is {round(forecast_today['maxtemp_f'] - forecast_today['mintemp_f'], 1)}°F.\"\n",
    ")"
   ]
  },
  {
   "cell_type": "markdown",
   "metadata": {},
   "source": [
    "## 4.5) How can you avoid the \"oh no I don't have the data any more because I made another request\" problem in the future?\n",
    "\n",
    "What variable(s) do you have to rename, and what would you rename them?"
   ]
  },
  {
   "cell_type": "code",
   "execution_count": null,
   "metadata": {},
   "outputs": [],
   "source": []
  },
  {
   "cell_type": "code",
   "execution_count": null,
   "metadata": {},
   "outputs": [],
   "source": []
  },
  {
   "cell_type": "markdown",
   "metadata": {},
   "source": [
    "## 5) Go through the daily forecasts, printing out the next three days' worth of predictions.\n",
    "\n",
    "I'd like to know the **high temperature** for each day, and whether it's **hot, warm, or cold** (based on what temperatures you think are hot, warm or cold).\n",
    "\n",
    "- *Tip: You'll need to use an `if` statement to say whether it is hot, warm or cold.*"
   ]
  },
  {
   "cell_type": "code",
   "execution_count": 41,
   "metadata": {},
   "outputs": [],
   "source": [
    "forecast_tomorrow = sf_forecast['forecast']['forecastday'][1]['day']\n",
    "forecast_day_after = sf_forecast['forecast']['forecastday'][2]['day']\n",
    "if forecast_tomorrow['maxtemp_f'] > 90:\n",
    "    temp = \"hot\"\n",
    "elif forecast_tomorrow['maxtemp_f'] > 70:\n",
    "    temp = \"warm\"\n",
    "else: temp = \"cool\"\n",
    "\n",
    "if forecast_day_after['maxtemp_f'] > 90:\n",
    "    next_temp = \"hot\"\n",
    "elif forecast_day_after['maxtemp_f'] > 70:\n",
    "    next_temp = \"warm\"\n",
    "else: next_temp = \"cool\""
   ]
  },
  {
   "cell_type": "code",
   "execution_count": 42,
   "metadata": {},
   "outputs": [
    {
     "name": "stdout",
     "output_type": "stream",
     "text": [
      "Tomorrow, the forecasted high will be 62.1°F, which I think is kind of cool.\n",
      "The day after tomorrow, the forecasted high will be 72.1°F, which I think is kinda warm.\n"
     ]
    }
   ],
   "source": [
    "print(\n",
    "    f\"Tomorrow, the forecasted high will be {forecast_tomorrow['maxtemp_f']}°F, which I think is kind of {temp}.\\nThe day after tomorrow, the forecasted high will be {forecast_day_after['maxtemp_f']}°F, which I think is kinda {next_temp}.\"\n",
    ")"
   ]
  },
  {
   "cell_type": "code",
   "execution_count": null,
   "metadata": {},
   "outputs": [],
   "source": []
  },
  {
   "cell_type": "markdown",
   "metadata": {},
   "source": [
    "## 5b) The question above used to be an entire week, but not any more. Try to re-use the code above to print out seven days.\n",
    "\n",
    "What happens? Can you figure out why it doesn't work?\n",
    "\n",
    "* *Tip: it has to do with the reason you're using an API key - maybe take a look at the \"Air Quality Data\" introduction for a hint? If you can't figure it out right now, no worries.*"
   ]
  },
  {
   "cell_type": "code",
   "execution_count": null,
   "metadata": {},
   "outputs": [],
   "source": []
  },
  {
   "cell_type": "code",
   "execution_count": null,
   "metadata": {},
   "outputs": [],
   "source": []
  },
  {
   "cell_type": "code",
   "execution_count": null,
   "metadata": {},
   "outputs": [],
   "source": []
  },
  {
   "cell_type": "markdown",
   "metadata": {},
   "source": [
    "## 6) What will be the hottest day in the next three days? What is the high temperature on that day?"
   ]
  },
  {
   "cell_type": "code",
   "execution_count": 51,
   "metadata": {},
   "outputs": [
    {
     "name": "stdout",
     "output_type": "stream",
     "text": [
      "Tomorrow's forecasted high temperature, 62.1, is the highest of the next three days.\n"
     ]
    }
   ],
   "source": [
    "max_three = []\n",
    "if forecast_today['maxtemp_f'] > forecast_tomorrow['maxtemp_f'] and forecast_day_after['maxtemp_f']:\n",
    "    print(\n",
    "        f\"Today's forecasted high temperature, {forecast_today['maxtemp_f']}, is the highest of the next three days.\"\n",
    "    )\n",
    "elif forecast_tomorrow['maxtemp_f'] > forecast_today['maxtemp_f'] and forecast_day_after['maxtemp_f']:\n",
    "    print(\n",
    "        f\"Tomorrow's forecasted high temperature, {forecast_tomorrow['maxtemp_f']}, is the highest of the next three days.\"\n",
    "    )\n",
    "elif forecast_day_after['maxtemp_f'] > forecast_today['maxtemp_f'] and forecast_tomorrow['maxtemp_f']:\n",
    "    print(\n",
    "        f\"The day after tomorrow's forecasted high temperature, {forecast_tomorrow['maxtemp_f']}, is the highest of the next three days.\"\n",
    "    )"
   ]
  },
  {
   "cell_type": "code",
   "execution_count": null,
   "metadata": {},
   "outputs": [],
   "source": []
  },
  {
   "cell_type": "code",
   "execution_count": null,
   "metadata": {},
   "outputs": [],
   "source": []
  },
  {
   "cell_type": "markdown",
   "metadata": {},
   "source": [
    "## 7) What's the weather looking like for the next 24+ hours in Miami, Florida?\n",
    "\n",
    "I'd like to know the temperature for every hour, and if it's going to have cloud cover of more than 50% say \"{temperature} and cloudy\" instead of just the temperature. \n",
    "\n",
    "- *Tip: You'll only need one day of forecast*"
   ]
  },
  {
   "cell_type": "code",
   "execution_count": 53,
   "metadata": {
    "collapsed": true,
    "jupyter": {
     "outputs_hidden": true
    }
   },
   "outputs": [],
   "source": [
    "miami_24_url = \"http://api.weatherapi.com/v1/forecast.json?key=6e398a633db74946801165709221306&q=miami, fl&days=1&aqi=no&alerts=no\"\n",
    "miami_24 = requests.get(miami_24_url)\n",
    "miami_24 = miami_24.json()"
   ]
  },
  {
   "cell_type": "code",
   "execution_count": 73,
   "metadata": {
    "collapsed": true,
    "jupyter": {
     "outputs_hidden": true
    }
   },
   "outputs": [
    {
     "name": "stdout",
     "output_type": "stream",
     "text": [
      "00:00 — 84.4°F.\n",
      "01:00 — 84.2°F and cloudy\n",
      "02:00 — 84.0°F.\n",
      "03:00 — 83.7°F.\n",
      "04:00 — 83.3°F.\n",
      "05:00 — 83.1°F.\n",
      "06:00 — 82.9°F.\n",
      "07:00 — 82.6°F.\n",
      "08:00 — 82.8°F.\n",
      "09:00 — 83.1°F.\n",
      "10:00 — 83.8°F.\n",
      "11:00 — 90.1°F.\n",
      "12:00 — 91.0°F.\n",
      "13:00 — 91.2°F.\n",
      "14:00 — 91.6°F.\n",
      "15:00 — 91.6°F.\n",
      "16:00 — 91.0°F.\n",
      "17:00 — 89.6°F.\n",
      "18:00 — 87.8°F.\n",
      "19:00 — 85.5°F.\n",
      "20:00 — 84.7°F.\n",
      "21:00 — 84.4°F and cloudy\n",
      "22:00 — 84.2°F and cloudy\n",
      "23:00 — 84.0°F and cloudy\n"
     ]
    }
   ],
   "source": [
    "hour_counter = 0\n",
    "\n",
    "for hour in range(24):\n",
    "    miami_hour = miami_24['forecast']['forecastday'][0]['hour'][hour_counter]\n",
    "    if miami_hour['cloud'] > 50:\n",
    "        print(\n",
    "            f\"{miami_hour['time'][-5:]} — {miami_hour['temp_f']}°F and cloudy\"\n",
    "        )\n",
    "    else:\n",
    "        print(\n",
    "            f\"{miami_hour['time'][-5:]} — {miami_hour['temp_f']}°F.\"\n",
    "        )\n",
    "    hour_counter += 1"
   ]
  },
  {
   "cell_type": "code",
   "execution_count": null,
   "metadata": {
    "collapsed": true,
    "jupyter": {
     "outputs_hidden": true
    }
   },
   "outputs": [],
   "source": []
  },
  {
   "cell_type": "markdown",
   "metadata": {},
   "source": [
    "## 8) For the next 24-ish hours in Miami, what percent of the time is the temperature above 85 degrees?\n",
    "\n",
    "- *Tip: You might want to read up on [looping patterns](http://jonathansoma.com/lede/foundations-2017/classes/data%20structures/looping-patterns/)*"
   ]
  },
  {
   "cell_type": "code",
   "execution_count": 75,
   "metadata": {
    "collapsed": true,
    "jupyter": {
     "outputs_hidden": true
    }
   },
   "outputs": [],
   "source": [
    "hour_counter = 0\n",
    "hot = []\n",
    "for hour in range(24):\n",
    "    miami_hour = miami_24['forecast']['forecastday'][0]['hour'][hour_counter]\n",
    "    if miami_hour['temp_f'] > 80:\n",
    "        hot.append(hour_counter)\n",
    "    hour_counter += 1"
   ]
  },
  {
   "cell_type": "code",
   "execution_count": 78,
   "metadata": {
    "collapsed": true,
    "jupyter": {
     "outputs_hidden": true
    }
   },
   "outputs": [
    {
     "name": "stdout",
     "output_type": "stream",
     "text": [
      "For the next 24ish hours in miami, it will be above 85 degrees 100% of the time.\n"
     ]
    }
   ],
   "source": [
    "print(\n",
    "    f\"For the next 24ish hours in miami, it will be above 85 degrees {round(float(len(hot) / 24 * 100))}% of the time.\"\n",
    ")"
   ]
  },
  {
   "cell_type": "code",
   "execution_count": null,
   "metadata": {
    "collapsed": true,
    "jupyter": {
     "outputs_hidden": true
    }
   },
   "outputs": [],
   "source": []
  },
  {
   "cell_type": "markdown",
   "metadata": {},
   "source": [
    "## 9) How much will it cost if you need to use 1,500,000 API calls?\n",
    "\n",
    "You are only allowed 1,000,000 API calls each month. If you were really bad at this homework or made some awful loops, WeatherAPI might shut down your free access. \n",
    "\n",
    "* *Tip: this involves looking somewhere that isn't the normal documentation.*"
   ]
  },
  {
   "cell_type": "markdown",
   "metadata": {},
   "source": [
    "$4 per month."
   ]
  },
  {
   "cell_type": "code",
   "execution_count": null,
   "metadata": {},
   "outputs": [],
   "source": []
  },
  {
   "cell_type": "markdown",
   "metadata": {},
   "source": [
    "## 10) You're too poor to spend more money! What else could you do instead of give them money?\n",
    "\n",
    "* *Tip: I'm not endorsing being sneaky, but newsrooms and students are both generally poverty-stricken.*"
   ]
  },
  {
   "cell_type": "markdown",
   "metadata": {},
   "source": [
    "Make a burner email account and sign up for another API!"
   ]
  }
 ],
 "metadata": {
  "kernelspec": {
   "display_name": "Python 3.10.3 64-bit ('3.10.3')",
   "language": "python",
   "name": "python3"
  },
  "language_info": {
   "codemirror_mode": {
    "name": "ipython",
    "version": 3
   },
   "file_extension": ".py",
   "mimetype": "text/x-python",
   "name": "python",
   "nbconvert_exporter": "python",
   "pygments_lexer": "ipython3",
   "version": "3.10.3"
  },
  "vscode": {
   "interpreter": {
    "hash": "10626171d4353dd8d0f12b0dae77464b904fee8f635bb045a55f368206a04bde"
   }
  }
 },
 "nbformat": 4,
 "nbformat_minor": 4
}
